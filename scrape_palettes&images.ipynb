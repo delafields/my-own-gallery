{
 "cells": [
  {
   "cell_type": "code",
   "execution_count": 1,
   "source": [
    "from selenium import webdriver\r\n",
    "# from selenium.webdriver.common.keys import Keys\r\n",
    "from webdriver_manager.chrome import ChromeDriverManager\r\n",
    "from selenium.webdriver.support.ui import WebDriverWait\r\n",
    "from selenium.webdriver.support import expected_conditions as EC\r\n",
    "from selenium.webdriver.common.by import By\r\n",
    "from bs4 import BeautifulSoup\r\n",
    "import time\r\n",
    "import json\r\n",
    "import re\r\n",
    "import requests\r\n",
    "\r\n",
    "driver = webdriver.Chrome(ChromeDriverManager().install())"
   ],
   "outputs": [
    {
     "output_type": "stream",
     "name": "stderr",
     "text": [
      "\n",
      "\n",
      "====== WebDriver manager ======\n",
      "Current google-chrome version is 92.0.4515\n",
      "Get LATEST driver version for 92.0.4515\n",
      "Get LATEST driver version for 92.0.4515\n",
      "Trying to download new driver from https://chromedriver.storage.googleapis.com/92.0.4515.107/chromedriver_win32.zip\n",
      "Driver has been saved in cache [C:\\Users\\thugz\\.wdm\\drivers\\chromedriver\\win32\\92.0.4515.107]\n"
     ]
    }
   ],
   "metadata": {}
  },
  {
   "cell_type": "code",
   "execution_count": 32,
   "source": [
    "def get_new_palette():\r\n",
    "    driver.get(\"https://artsexperiments.withgoogle.com/artpalette/\")\r\n",
    "\r\n",
    "    # skip intro\r\n",
    "    skip_button = WebDriverWait(driver, 5).until(EC.element_to_be_clickable((By.CLASS_NAME, 'skip-intro-btn')))\r\n",
    "\r\n",
    "    skip_button.click()\r\n",
    "\r\n",
    "    time.sleep(2)\r\n",
    "\r\n",
    "    # get palette\r\n",
    "    palette = driver.current_url.split(\"/\")[-1]\r\n",
    "    palette = palette.split('-')\r\n",
    "    palette_hex_codes = [\"#\" + hex_code for hex_code in palette]\r\n",
    "    palette_key = \"\".join(sorted(palette))\r\n",
    "\r\n",
    "    with open(\"image_links.json\", \"r\") as infile:\r\n",
    "        palettes = json.loads(infile.read())\r\n",
    "\r\n",
    "    if palette_key in palettes.keys():\r\n",
    "        return None, None, None\r\n",
    "    else:\r\n",
    "        driver.execute_script(\"window.scrollTo(0, window.scrollY + 10000)\")\r\n",
    "\r\n",
    "        time.sleep(10)\r\n",
    "\r\n",
    "        # read into beautifulsoup\r\n",
    "        page_source = driver.page_source\r\n",
    "\r\n",
    "        soup = BeautifulSoup(page_source, 'html.parser')\r\n",
    "\r\n",
    "        palette_images = []\r\n",
    "\r\n",
    "        image_pages = soup.find_all(\"a\", {\"class\": \"more-details\"})\r\n",
    "\r\n",
    "        for image_page in image_pages:\r\n",
    "            current_image = {}\r\n",
    "            # get image title, remove non-ascii\r\n",
    "            encoded_title = image_page[\"title\"].encode('ascii', 'ignore')\r\n",
    "            title = encoded_title.decode()\r\n",
    "            current_image[\"title\"] = image_page[\"title\"]\r\n",
    "\r\n",
    "            # get larger image given this original link\r\n",
    "            driver.get(image_page[\"href\"])\r\n",
    "            try:\r\n",
    "                image = WebDriverWait(driver, 5).until(EC.presence_of_element_located((By.CLASS_NAME, 'XkWAb-LmsqOc')))\r\n",
    "            except:\r\n",
    "                continue\r\n",
    "            \r\n",
    "            time.sleep(1)\r\n",
    "            image_link = driver.find_element_by_class_name(\"XkWAb-LmsqOc\").get_attribute(\"src\")\r\n",
    "\r\n",
    "            if image_link is not None:\r\n",
    "                current_image[\"link\"] = image_link.replace('blob:', '')\r\n",
    "                palette_images.append(current_image)\r\n",
    "\r\n",
    "        return palette_hex_codes, palette_key, palette_images\r\n"
   ],
   "outputs": [],
   "metadata": {}
  },
  {
   "cell_type": "code",
   "execution_count": null,
   "source": [
    "num_processed = 0\r\n",
    "\r\n",
    "while num_processed < 1990:\r\n",
    "\r\n",
    "    palette_hex_codes, palette_key, image_dict = get_new_palette()\r\n",
    "\r\n",
    "    if palette_key:\r\n",
    "        with open(\"image_links.json\") as infile:\r\n",
    "            palettes = json.loads(infile.read())\r\n",
    "            palettes[palette_key] = {\"palette_hex_codes\": palette_hex_codes, \"images\": image_dict}\r\n",
    "        with open(\"image_links.json\", \"w\") as outfile:\r\n",
    "            json.dump(palettes, outfile)\r\n",
    "        num_processed += 1\r\n",
    "        print(num_processed)\r\n",
    "\r\n",
    "    else:\r\n",
    "        print(\"dupe\")\r\n",
    "        continue"
   ],
   "outputs": [],
   "metadata": {}
  },
  {
   "cell_type": "markdown",
   "source": [],
   "metadata": {}
  },
  {
   "cell_type": "code",
   "execution_count": 54,
   "source": [
    "with open(\"image_links.json\") as infile:\r\n",
    "    palettes = json.loads(infile.read())\r\n",
    "    print(len(palettes.keys()))"
   ],
   "outputs": [
    {
     "output_type": "stream",
     "name": "stdout",
     "text": [
      "382\n"
     ]
    }
   ],
   "metadata": {}
  },
  {
   "cell_type": "markdown",
   "source": [
    "## Scratch below"
   ],
   "metadata": {}
  },
  {
   "cell_type": "code",
   "execution_count": 52,
   "source": [
    "# r = requests.get(\"https://artsandculture.google.com/asset/7wELdw4KnbezyA?utm_campaign=cilex_v1&utm_source=cilab&utm_medium=artsexperiments&utm_content=artpalette\")\r\n",
    "# if r.status_code == 429:\r\n",
    "#     print(\"I'm out\")"
   ],
   "outputs": [],
   "metadata": {}
  },
  {
   "cell_type": "code",
   "execution_count": 14,
   "source": [
    "soup = BeautifulSoup(r.content, 'html.parser')\r\n",
    "image = soup.find(\"img\")\r\n",
    "image_link = \"https:\" + image[\"src\"]\r\n",
    "print(image_link)"
   ],
   "outputs": [
    {
     "output_type": "stream",
     "name": "stdout",
     "text": [
      "https://lh6.ggpht.com/LXPSJQdx-gtROfRYspFw0uk5zN-UxnCoiJmzSXxmDfS8DLTx5b3uc8VJe8I\n"
     ]
    }
   ],
   "metadata": {}
  },
  {
   "cell_type": "code",
   "execution_count": 25,
   "source": [
    "    driver.get(\"https://artsexperiments.withgoogle.com/artpalette/\")\r\n",
    "\r\n",
    "    # skip intro\r\n",
    "    skip_button = WebDriverWait(driver, 5).until(EC.element_to_be_clickable((By.CLASS_NAME, 'skip-intro-btn')))\r\n",
    "\r\n",
    "    skip_button.click()\r\n",
    "\r\n",
    "    time.sleep(2)\r\n",
    "\r\n",
    "    # get palette\r\n",
    "    palette = driver.current_url.split(\"/\")[-1]\r\n",
    "    palette = palette.split('-')\r\n",
    "    palette_hex_codes = [\"#\" + hex_code for hex_code in palette]\r\n",
    "    palette_key = \"\".join(sorted(palette))\r\n",
    "\r\n",
    "    with open(\"image_links.json\", \"r\") as infile:\r\n",
    "        palettes = json.loads(infile.read())\r\n",
    "\r\n",
    "    # if palette_key in palettes.keys():\r\n",
    "    #     return null, null, null\r\n",
    "    # else:\r\n",
    "    driver.execute_script(\"window.scrollTo(0, window.scrollY + 10000)\")\r\n",
    "\r\n",
    "    time.sleep(10)\r\n",
    "\r\n",
    "    # read into beautifulsoup\r\n",
    "    page_source = driver.page_source\r\n",
    "\r\n",
    "    soup = BeautifulSoup(page_source, 'html.parser')\r\n",
    "\r\n",
    "    palette_images = []\r\n",
    "\r\n",
    "    image_pages = soup.find_all(\"a\", {\"class\": \"more-details\"})\r\n",
    "\r\n",
    "    for image_page in image_pages:\r\n",
    "        current_image = {}\r\n",
    "        # get image title, remove non-ascii\r\n",
    "        encoded_title = image_page[\"title\"].encode('ascii', 'ignore')\r\n",
    "        title = encoded_title.decode()\r\n",
    "        current_image[\"title\"] = image_page[\"title\"]\r\n",
    "\r\n",
    "        # get larger image given this original link\r\n",
    "        driver.get(image_page[\"href\"])\r\n",
    "        image = WebDriverWait(driver, 5).until(EC.presence_of_element_located((By.CLASS_NAME, 'XkWAb-LmsqOc')))\r\n",
    "        print(image)\r\n",
    "        # image_link = \"https:\" + image[\"src\"]\r\n",
    "        # current_image[\"link\"] = image_link\r\n",
    "        time.sleep(1)\r\n",
    "        image_link = driver.find_element_by_class_name(\"XkWAb-LmsqOc\").get_attribute(\"src\")\r\n",
    "        # image_link = \"https:\" + image[\"src\"]\r\n",
    "        # current_image[\"link\"] = image_link"
   ],
   "outputs": [
    {
     "output_type": "stream",
     "name": "stdout",
     "text": [
      "<selenium.webdriver.remote.webelement.WebElement (session=\"7774bfaba8457ccf2c3403d2e355f024\", element=\"e98168f8-642d-47c7-8a65-85d9c59188f2\")>\n",
      "https://lh5.ggpht.com/DXYUwN8BXfAX9qrkOEtfuWJp3tzjkuoyy3n41M_kzuRcE1_QLxiBipWay_Q=x0-y0-z0-nt06bbeiH14CatV8GPgoogAJOc_0Os\n",
      "<selenium.webdriver.remote.webelement.WebElement (session=\"7774bfaba8457ccf2c3403d2e355f024\", element=\"0161b43e-7eab-47c9-a0a9-943bc61c8686\")>\n",
      "blob:https://artsandculture.google.com/ef918765-1cbd-4c54-b3ba-dceb28f3d45a\n",
      "<selenium.webdriver.remote.webelement.WebElement (session=\"7774bfaba8457ccf2c3403d2e355f024\", element=\"5a7f8812-cae3-4f6d-8b7d-3efe8619b41e\")>\n",
      "blob:https://artsandculture.google.com/16be6b82-c5fe-402a-9c42-0fb3d7e3b7a5\n",
      "<selenium.webdriver.remote.webelement.WebElement (session=\"7774bfaba8457ccf2c3403d2e355f024\", element=\"ddc521d2-cc27-4d95-9f9e-c651dd785a51\")>\n",
      "https://lh5.ggpht.com/pjxN8BZeFsfalJU-JjHcLlsFf5v03wap0elFC6tTdLfpqkS4avOJR1NH8Q=x0-y0-z0-nt0p_U_QnDPmd_1ng3DeNWhSw6c4m0\n",
      "<selenium.webdriver.remote.webelement.WebElement (session=\"7774bfaba8457ccf2c3403d2e355f024\", element=\"e70a6b8d-cdf2-41e3-9e7b-d5b5a454eb20\")>\n",
      "https://lh6.ggpht.com/avi9l7ER-wC5re32FwT3CFnJSf0TiM7c-povBW4j90ZoZ8na_bYpwc5L=x0-y0-z0-nt0cXJcSrVnT5Yqf4c36V7xW8Vtz0U\n",
      "<selenium.webdriver.remote.webelement.WebElement (session=\"7774bfaba8457ccf2c3403d2e355f024\", element=\"c01bbea6-f03e-4937-8bed-c387a086b57e\")>\n",
      "https://lh6.ggpht.com/fxG-87zcyZ0SuEFWtHkViRpE1Wmytg7x_XGnRFyQKoriOspLBbMP_8GL7w=x0-y0-z0-nt051h1Sy4jpa9tCLZ2o1Jufx1KaYk\n",
      "<selenium.webdriver.remote.webelement.WebElement (session=\"7774bfaba8457ccf2c3403d2e355f024\", element=\"6cfc59c2-9989-4c32-a364-feab9ec5ead9\")>\n",
      "blob:https://artsandculture.google.com/fe78b923-a093-4aab-9cbc-0c11c7c468e6\n",
      "<selenium.webdriver.remote.webelement.WebElement (session=\"7774bfaba8457ccf2c3403d2e355f024\", element=\"93d4cc22-8daf-46c5-807b-eb046d2c2426\")>\n",
      "blob:https://artsandculture.google.com/9b604887-017c-4443-ab26-8358708d6769\n",
      "<selenium.webdriver.remote.webelement.WebElement (session=\"7774bfaba8457ccf2c3403d2e355f024\", element=\"95abd056-6e0e-4392-8eac-6a6ebd8c7a60\")>\n",
      "blob:https://artsandculture.google.com/46324d2a-295c-4980-88ee-d7fdb2317641\n"
     ]
    }
   ],
   "metadata": {}
  },
  {
   "cell_type": "code",
   "execution_count": null,
   "source": [],
   "outputs": [],
   "metadata": {}
  }
 ],
 "metadata": {
  "orig_nbformat": 4,
  "language_info": {
   "name": "python",
   "version": "3.7.9",
   "mimetype": "text/x-python",
   "codemirror_mode": {
    "name": "ipython",
    "version": 3
   },
   "pygments_lexer": "ipython3",
   "nbconvert_exporter": "python",
   "file_extension": ".py"
  },
  "kernelspec": {
   "name": "python3",
   "display_name": "Python 3.7.9 64-bit ('paint': conda)"
  },
  "interpreter": {
   "hash": "2b9214014d01204ec1c10e5678a4304feb5bea45b56ac6b6d79be7d46b48320b"
  }
 },
 "nbformat": 4,
 "nbformat_minor": 2
}