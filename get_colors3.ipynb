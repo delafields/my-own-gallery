{
 "cells": [
  {
   "cell_type": "code",
   "execution_count": 69,
   "source": [
    "from selenium import webdriver\r\n",
    "# from selenium.webdriver.common.keys import Keys\r\n",
    "from webdriver_manager.chrome import ChromeDriverManager\r\n",
    "from selenium.webdriver.support.ui import WebDriverWait\r\n",
    "from selenium.webdriver.support import expected_conditions as EC\r\n",
    "from selenium.webdriver.common.by import By\r\n",
    "from bs4 import BeautifulSoup\r\n",
    "import time\r\n",
    "import json\r\n",
    "import re\r\n",
    "import requests\r\n",
    "\r\n",
    "driver = webdriver.Chrome(ChromeDriverManager().install())"
   ],
   "outputs": [
    {
     "output_type": "stream",
     "name": "stderr",
     "text": [
      "\n",
      "\n",
      "====== WebDriver manager ======\n",
      "Current google-chrome version is 92.0.4515\n",
      "Get LATEST driver version for 92.0.4515\n",
      "Driver [C:\\Users\\thugz\\.wdm\\drivers\\chromedriver\\win32\\92.0.4515.107\\chromedriver.exe] found in cache\n"
     ]
    }
   ],
   "metadata": {}
  },
  {
   "cell_type": "code",
   "execution_count": 78,
   "source": [
    "def get_new_palette():\r\n",
    "    driver.get(\"https://artsexperiments.withgoogle.com/artpalette/\")\r\n",
    "\r\n",
    "    # skip intro\r\n",
    "    skip_button = WebDriverWait(driver, 5).until(EC.element_to_be_clickable((By.CLASS_NAME, 'skip-intro-btn')))\r\n",
    "\r\n",
    "    skip_button.click()\r\n",
    "\r\n",
    "    time.sleep(2)\r\n",
    "\r\n",
    "    # get palette\r\n",
    "    palette = driver.current_url.split(\"/\")[-1]\r\n",
    "    palette = palette.split('-')\r\n",
    "    palette_hex_codes = [\"#\" + hex_code for hex_code in palette]\r\n",
    "    palette_key = \"\".join(sorted(palette))\r\n",
    "\r\n",
    "    with open(\"image_links.json\", \"r\") as infile:\r\n",
    "        palettes = json.loads(infile.read())\r\n",
    "\r\n",
    "    if palette_key in palettes.keys():\r\n",
    "        return null, null, null\r\n",
    "    else:\r\n",
    "        driver.execute_script(\"window.scrollTo(0, window.scrollY + 10000)\")\r\n",
    "\r\n",
    "        time.sleep(10)\r\n",
    "\r\n",
    "        # read into beautifulsoup\r\n",
    "        page_source = driver.page_source\r\n",
    "\r\n",
    "        soup = BeautifulSoup(page_source, 'html.parser')\r\n",
    "\r\n",
    "        palette_images = []\r\n",
    "\r\n",
    "        image_pages = soup.find_all(\"a\", {\"class\": \"more-details\"})\r\n",
    "\r\n",
    "        for image_page in image_pages:\r\n",
    "            current_image = {}\r\n",
    "            # get image title, remove non-ascii\r\n",
    "            encoded_title = image_page[\"title\"].encode('ascii', 'ignore')\r\n",
    "            title = encoded_title.decode()\r\n",
    "            current_image[\"title\"] = image_page[\"title\"]\r\n",
    "\r\n",
    "            # get larger image given this original link\r\n",
    "            image_html = requests.get(image_page[\"href\"]).content\r\n",
    "            soup = BeautifulSoup(image_html, 'html.parser')\r\n",
    "            image = soup.find(\"img\")\r\n",
    "            image_link = \"https:\" + image[\"src\"]\r\n",
    "            current_image[\"link\"] = image_link\r\n",
    "\r\n",
    "            palette_images.append(current_image)\r\n",
    "\r\n",
    "        return palette_hex_codes, palette_key, palette_images\r\n"
   ],
   "outputs": [],
   "metadata": {}
  },
  {
   "cell_type": "code",
   "execution_count": 79,
   "source": [
    "num_processed = 0\r\n",
    "\r\n",
    "while num_processed < 2000:\r\n",
    "    print(num_processed)\r\n",
    "\r\n",
    "    palette_hex_codes, palette_key, image_dict = get_new_palette()\r\n",
    "\r\n",
    "    if palette_key:\r\n",
    "        with open(\"image_links.json\") as infile:\r\n",
    "            palettes = json.loads(infile.read())\r\n",
    "            palettes[palette_key] = {\"palette_hex_codes\": palette_hex_codes, \"images\": image_dict}\r\n",
    "        with open(\"image_links.json\", \"w\") as outfile:\r\n",
    "            json.dump(palettes, outfile)\r\n",
    "        num_processed += 1\r\n",
    "\r\n",
    "    else:\r\n",
    "        num_processed += 1\r\n",
    "        continue"
   ],
   "outputs": [
    {
     "output_type": "stream",
     "name": "stdout",
     "text": [
      "0\n",
      "b'<!DOCTYPE html PUBLIC \"-//W3C//DTD HTML 4.01 Transitional//EN\">\\n<html>\\n<head><meta http-equiv=\"content-type\" content=\"text/html; charset=utf-8\"><meta name=\"viewport\" content=\"initial-scale=1\"><title>https://artsandculture.google.com/asset/GAEwMMeAFWaY9Q?utm_campaign=cilex_v1&amp;utm_source=cilab&amp;utm_medium=artsexperiments&amp;utm_content=artpalette</title></head>\\n<body style=\"font-family: arial, sans-serif; background-color: #fff; color: #000; padding:20px; font-size:18px;\" onload=\"e=document.getElementById(\\'captcha\\');if(e){e.focus();}\">\\n<div style=\"max-width:400px;\">\\n<hr noshade size=\"1\" style=\"color:#ccc; background-color:#ccc;\"><br>\\n<form id=\"captcha-form\" action=\"index\" method=\"post\">\\n<script src=\"https://www.google.com/recaptcha/api.js\" async defer></script>\\n<script>var submitCallback = function(response) {document.getElementById(\\'captcha-form\\').submit();};</script>\\n<div id=\"recaptcha\" class=\"g-recaptcha\" data-sitekey=\"6LfwuyUTAAAAAOAmoS0fdqijC2PbbdH4kjq62Y1b\" data-callback=\"submitCallback\" data-s=\"G7gb04k3e77Eizzk6ovk14ieEGatDJDAhoMAI4Ak-JPeTW4kzKQSL6FI736J8kpx7QKD2xKI4wjNFLvbDHpv-kuJU0vBY12I0joPEal7LibO8g_1VmMDJ75FSPWjdMEtxnr6dCpUIJpWidM_4OstpI-JphQLHHncnfarRLLm0VfB_Hzkj59tQVh1jpGN_94b0Ir1RU-azdrHFAzBAw9VfADxQDa8tS38eHHIEWw\"></div>\\n<input type=\\'hidden\\' name=\\'q\\' value=\\'EgRHchXbGNbAoIkGIhDYFNPPjXylcx6UZVX8lefVMgFy\\'><input type=\"hidden\" name=\"continue\" value=\"https://artsandculture.google.com/asset/GAEwMMeAFWaY9Q?utm_campaign=cilex_v1&amp;utm_source=cilab&amp;utm_medium=artsexperiments&amp;utm_content=artpalette\">\\n</form>\\n<hr noshade size=\"1\" style=\"color:#ccc; background-color:#ccc;\">\\n\\n<div style=\"font-size:13px;\">\\n<b>About this page</b><br><br>\\n\\nOur systems have detected unusual traffic from your computer network.  This page checks to see if it&#39;s really you sending the requests, and not a robot.  <a href=\"#\" onclick=\"document.getElementById(\\'infoDiv\\').style.display=\\'block\\';\">Why did this happen?</a><br><br>\\n\\n<div id=\"infoDiv\" style=\"display:none; background-color:#eee; padding:10px; margin:0 0 15px 0; line-height:1.4em;\">\\nThis page appears when Google automatically detects requests coming from your computer network which appear to be in violation of the <a href=\"//www.google.com/policies/terms/\">Terms of Service</a>. The block will expire shortly after those requests stop.  In the meantime, solving the above CAPTCHA will let you continue to use our services.<br><br>This traffic may have been sent by malicious software, a browser plug-in, or a script that sends automated requests.  If you share your network connection, ask your administrator for help &mdash; a different computer using the same IP address may be responsible.  <a href=\"//support.google.com/websearch/answer/86640\">Learn more</a><br><br>Sometimes you may be asked to solve the CAPTCHA if you are using advanced terms that robots are known to use, or sending requests very quickly.\\n</div>\\n\\nIP address: 71.114.21.219<br>Time: 2021-08-26T23:14:31Z<br>URL: https://artsandculture.google.com/asset/GAEwMMeAFWaY9Q?utm_campaign=cilex_v1&amp;utm_source=cilab&amp;utm_medium=artsexperiments&amp;utm_content=artpalette<br>\\n</div>\\n</div>\\n</body>\\n</html>\\n'\n"
     ]
    },
    {
     "output_type": "error",
     "ename": "TypeError",
     "evalue": "'NoneType' object is not subscriptable",
     "traceback": [
      "\u001b[1;31m---------------------------------------------------------------------------\u001b[0m",
      "\u001b[1;31mTypeError\u001b[0m                                 Traceback (most recent call last)",
      "\u001b[1;32m<ipython-input-79-190b2be43d4c>\u001b[0m in \u001b[0;36m<module>\u001b[1;34m\u001b[0m\n\u001b[0;32m      4\u001b[0m     \u001b[0mprint\u001b[0m\u001b[1;33m(\u001b[0m\u001b[0mnum_processed\u001b[0m\u001b[1;33m)\u001b[0m\u001b[1;33m\u001b[0m\u001b[1;33m\u001b[0m\u001b[0m\n\u001b[0;32m      5\u001b[0m \u001b[1;33m\u001b[0m\u001b[0m\n\u001b[1;32m----> 6\u001b[1;33m     \u001b[0mpalette_hex_codes\u001b[0m\u001b[1;33m,\u001b[0m \u001b[0mpalette_key\u001b[0m\u001b[1;33m,\u001b[0m \u001b[0mimage_dict\u001b[0m \u001b[1;33m=\u001b[0m \u001b[0mget_new_palette\u001b[0m\u001b[1;33m(\u001b[0m\u001b[1;33m)\u001b[0m\u001b[1;33m\u001b[0m\u001b[1;33m\u001b[0m\u001b[0m\n\u001b[0m\u001b[0;32m      7\u001b[0m \u001b[1;33m\u001b[0m\u001b[0m\n\u001b[0;32m      8\u001b[0m     \u001b[1;32mif\u001b[0m \u001b[0mpalette_key\u001b[0m\u001b[1;33m:\u001b[0m\u001b[1;33m\u001b[0m\u001b[1;33m\u001b[0m\u001b[0m\n",
      "\u001b[1;32m<ipython-input-78-1dc967a4e731>\u001b[0m in \u001b[0;36mget_new_palette\u001b[1;34m()\u001b[0m\n\u001b[0;32m     46\u001b[0m             \u001b[0msoup\u001b[0m \u001b[1;33m=\u001b[0m \u001b[0mBeautifulSoup\u001b[0m\u001b[1;33m(\u001b[0m\u001b[0mimage_html\u001b[0m\u001b[1;33m,\u001b[0m \u001b[1;34m'html.parser'\u001b[0m\u001b[1;33m)\u001b[0m\u001b[1;33m\u001b[0m\u001b[1;33m\u001b[0m\u001b[0m\n\u001b[0;32m     47\u001b[0m             \u001b[0mimage\u001b[0m \u001b[1;33m=\u001b[0m \u001b[0msoup\u001b[0m\u001b[1;33m.\u001b[0m\u001b[0mfind\u001b[0m\u001b[1;33m(\u001b[0m\u001b[1;34m\"img\"\u001b[0m\u001b[1;33m)\u001b[0m\u001b[1;33m\u001b[0m\u001b[1;33m\u001b[0m\u001b[0m\n\u001b[1;32m---> 48\u001b[1;33m             \u001b[0mimage_link\u001b[0m \u001b[1;33m=\u001b[0m \u001b[1;34m\"https:\"\u001b[0m \u001b[1;33m+\u001b[0m \u001b[0mimage\u001b[0m\u001b[1;33m[\u001b[0m\u001b[1;34m\"src\"\u001b[0m\u001b[1;33m]\u001b[0m\u001b[1;33m\u001b[0m\u001b[1;33m\u001b[0m\u001b[0m\n\u001b[0m\u001b[0;32m     49\u001b[0m             \u001b[0mcurrent_image\u001b[0m\u001b[1;33m[\u001b[0m\u001b[1;34m\"link\"\u001b[0m\u001b[1;33m]\u001b[0m \u001b[1;33m=\u001b[0m \u001b[0mimage_link\u001b[0m\u001b[1;33m\u001b[0m\u001b[1;33m\u001b[0m\u001b[0m\n\u001b[0;32m     50\u001b[0m \u001b[1;33m\u001b[0m\u001b[0m\n",
      "\u001b[1;31mTypeError\u001b[0m: 'NoneType' object is not subscriptable"
     ]
    }
   ],
   "metadata": {}
  },
  {
   "cell_type": "markdown",
   "source": [],
   "metadata": {}
  },
  {
   "cell_type": "code",
   "execution_count": 67,
   "source": [
    "r = requests.get(\"https://artsandculture.google.com/asset/7wELdw4KnbezyA?utm_campaign=cilex_v1&utm_source=cilab&utm_medium=artsexperiments&utm_content=artpalette\")\r\n",
    "    # \"https://artsandculture.google.com/asset/VAGgshZL5aWXfw?utm_campaign=cilex_v1&utm_source=cilab&utm_medium=artsexperiments&utm_content=artpalette\")\r\n",
    "if r.status_code == 429:\r\n",
    "    print(\"ok\")"
   ],
   "outputs": [
    {
     "output_type": "stream",
     "name": "stdout",
     "text": [
      "ok\n"
     ]
    }
   ],
   "metadata": {}
  },
  {
   "cell_type": "code",
   "execution_count": 57,
   "source": [
    "soup = BeautifulSoup(r, 'html.parser')\r\n",
    "\r\n",
    "# image = soup.select(\".inCeke img\")\r\n",
    "images = soup.find(\"img\")\r\n",
    "print(images)\r\n",
    "\r\n",
    "\"https:\" + images[\"src\"]"
   ],
   "outputs": [
    {
     "output_type": "stream",
     "name": "stdout",
     "text": [
      "None\n"
     ]
    },
    {
     "output_type": "error",
     "ename": "TypeError",
     "evalue": "'NoneType' object is not subscriptable",
     "traceback": [
      "\u001b[1;31m---------------------------------------------------------------------------\u001b[0m",
      "\u001b[1;31mTypeError\u001b[0m                                 Traceback (most recent call last)",
      "\u001b[1;32m<ipython-input-57-e2159a0d948a>\u001b[0m in \u001b[0;36m<module>\u001b[1;34m\u001b[0m\n\u001b[0;32m      5\u001b[0m \u001b[0mprint\u001b[0m\u001b[1;33m(\u001b[0m\u001b[0mimages\u001b[0m\u001b[1;33m)\u001b[0m\u001b[1;33m\u001b[0m\u001b[1;33m\u001b[0m\u001b[0m\n\u001b[0;32m      6\u001b[0m \u001b[1;33m\u001b[0m\u001b[0m\n\u001b[1;32m----> 7\u001b[1;33m \u001b[1;34m\"https:\"\u001b[0m \u001b[1;33m+\u001b[0m \u001b[0mimages\u001b[0m\u001b[1;33m[\u001b[0m\u001b[1;34m\"src\"\u001b[0m\u001b[1;33m]\u001b[0m\u001b[1;33m\u001b[0m\u001b[1;33m\u001b[0m\u001b[0m\n\u001b[0m",
      "\u001b[1;31mTypeError\u001b[0m: 'NoneType' object is not subscriptable"
     ]
    }
   ],
   "metadata": {}
  },
  {
   "cell_type": "code",
   "execution_count": null,
   "source": [],
   "outputs": [],
   "metadata": {}
  }
 ],
 "metadata": {
  "orig_nbformat": 4,
  "language_info": {
   "name": "python",
   "version": "3.7.9",
   "mimetype": "text/x-python",
   "codemirror_mode": {
    "name": "ipython",
    "version": 3
   },
   "pygments_lexer": "ipython3",
   "nbconvert_exporter": "python",
   "file_extension": ".py"
  },
  "kernelspec": {
   "name": "python3",
   "display_name": "Python 3.7.9 64-bit ('paint': conda)"
  },
  "interpreter": {
   "hash": "2b9214014d01204ec1c10e5678a4304feb5bea45b56ac6b6d79be7d46b48320b"
  }
 },
 "nbformat": 4,
 "nbformat_minor": 2
}