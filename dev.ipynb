{
 "cells": [
  {
   "cell_type": "code",
   "execution_count": 82,
   "source": [
    "from selenium import webdriver\r\n",
    "from selenium.webdriver.common.keys import Keys\r\n",
    "from webdriver_manager.chrome import ChromeDriverManager\r\n",
    "from bs4 import BeautifulSoup\r\n",
    "import re\r\n",
    "\r\n",
    "# location of chrome driver\r\n",
    "driver_location = r'C:\\Users\\thugz\\OneDrive\\Desktop\\Code\\chromedriver.exe'\r\n",
    "\r\n",
    "# options = webdriver.ChromeOptions() # define options\r\n",
    "# options.add_argument(\"headless\") # pass headless argument to the options\r\n",
    "# run headless chrome driver (otherwise remove options param)\r\n",
    "# with webdriver.Chrome(executable_path=driver_location, chrome_options=options) as driver:\r\n",
    "\r\n",
    "URL = \"https://artsexperiments.withgoogle.com/artpalette/\""
   ],
   "outputs": [],
   "metadata": {}
  },
  {
   "cell_type": "code",
   "execution_count": 63,
   "source": [
    "driver = webdriver.Chrome(ChromeDriverManager().install())"
   ],
   "outputs": [
    {
     "output_type": "stream",
     "name": "stderr",
     "text": [
      "\n",
      "\n",
      "====== WebDriver manager ======\n",
      "Current google-chrome version is 92.0.4515\n",
      "Get LATEST driver version for 92.0.4515\n",
      "Driver [C:\\Users\\thugz\\.wdm\\drivers\\chromedriver\\win32\\92.0.4515.107\\chromedriver.exe] found in cache\n"
     ]
    }
   ],
   "metadata": {}
  },
  {
   "cell_type": "code",
   "execution_count": 64,
   "source": [
    "driver.get(URL)"
   ],
   "outputs": [],
   "metadata": {}
  },
  {
   "cell_type": "code",
   "execution_count": 65,
   "source": [
    "# skip intro\r\n",
    "skip_button = driver.find_element_by_xpath(\"/html/body/div[2]/content/div/button\")\r\n",
    "\r\n",
    "skip_button.click()"
   ],
   "outputs": [],
   "metadata": {}
  },
  {
   "cell_type": "code",
   "execution_count": 74,
   "source": [
    "# scroll to get more images\r\n",
    "driver.execute_script(\"window.scrollTo(0, window.scrollY + 10000)\")"
   ],
   "outputs": [],
   "metadata": {}
  },
  {
   "cell_type": "code",
   "execution_count": 101,
   "source": [
    "# read into beautifulsoup\r\n",
    "page_source = driver.page_source\r\n",
    "\r\n",
    "soup = BeautifulSoup(page_source, 'html.parser')\r\n",
    "\r\n",
    "# get palette\r\n",
    "current_palette = []\r\n",
    "\r\n",
    "palette = soup.select(\".palette li\")\r\n",
    "\r\n",
    "for color in palette:\r\n",
    "    rgb = re.findall(\"\\d+, \\d+, \\d+\", color[\"style\"])[0].split(\", \")\r\n",
    "    rgb = [int(color) for color in rgb]\r\n",
    "    hex_code = '#%02x%02x%02x' % (rgb[0], rgb[1], rgb[2])\r\n",
    "    current_palette.append(hex_code)\r\n",
    "\r\n",
    "\r\n",
    "# get images\r\n",
    "# TODO: replace with a deque?\r\n",
    "image_dict = {}\r\n",
    "\r\n",
    "image_divs = soup.select(\".item-image img\")\r\n",
    "print(len(soup.find_all(\"div\", {\"class\": \"item-image\"})))\r\n",
    "\r\n",
    "\r\n",
    "for image in image_divs:\r\n",
    "    # print(image[\"alt\"], image[\"src\"])\r\n",
    "    image_dict[image[\"alt\"]] = image[\"src\"]\r\n",
    "\r\n"
   ],
   "outputs": [
    {
     "output_type": "stream",
     "name": "stdout",
     "text": [
      "9\n"
     ]
    }
   ],
   "metadata": {}
  },
  {
   "cell_type": "code",
   "execution_count": 102,
   "source": [
    "print(len(image_dict))\r\n",
    "print(current_palette)"
   ],
   "outputs": [
    {
     "output_type": "stream",
     "name": "stdout",
     "text": [
      "9\n",
      "['#53441c', '#613723', '#4e3424', '#58472f', '#8b6f56']\n"
     ]
    }
   ],
   "metadata": {}
  },
  {
   "cell_type": "code",
   "execution_count": null,
   "source": [
    "# upload images: https://cloudinary.com/documentation/upload_images\r\n",
    "# aws: https://stackoverflow.com/questions/50524739/upload-image-to-s3-python"
   ],
   "outputs": [],
   "metadata": {}
  }
 ],
 "metadata": {
  "orig_nbformat": 4,
  "language_info": {
   "name": "python",
   "version": "3.7.9",
   "mimetype": "text/x-python",
   "codemirror_mode": {
    "name": "ipython",
    "version": 3
   },
   "pygments_lexer": "ipython3",
   "nbconvert_exporter": "python",
   "file_extension": ".py"
  },
  "kernelspec": {
   "name": "python3",
   "display_name": "Python 3.7.9 64-bit ('paint': conda)"
  },
  "interpreter": {
   "hash": "2b9214014d01204ec1c10e5678a4304feb5bea45b56ac6b6d79be7d46b48320b"
  }
 },
 "nbformat": 4,
 "nbformat_minor": 2
}