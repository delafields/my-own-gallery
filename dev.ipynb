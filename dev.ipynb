{
 "cells": [
  {
   "cell_type": "code",
   "execution_count": 1,
   "source": [
    "from selenium import webdriver\r\n",
    "from selenium.webdriver.common.keys import Keys\r\n",
    "from webdriver_manager.chrome import ChromeDriverManager\r\n",
    "from bs4 import BeautifulSoup\r\n",
    "import re\r\n",
    "\r\n",
    "# location of chrome driver\r\n",
    "driver_location = r'C:\\Users\\thugz\\OneDrive\\Desktop\\Code\\chromedriver.exe'\r\n",
    "\r\n",
    "# options = webdriver.ChromeOptions() # define options\r\n",
    "# options.add_argument(\"headless\") # pass headless argument to the options\r\n",
    "# run headless chrome driver (otherwise remove options param)\r\n",
    "# with webdriver.Chrome(executable_path=driver_location, chrome_options=options) as driver:\r\n",
    "\r\n",
    "URL = \"https://artsexperiments.withgoogle.com/artpalette/\""
   ],
   "outputs": [],
   "metadata": {}
  },
  {
   "cell_type": "code",
   "execution_count": 2,
   "source": [
    "driver = webdriver.Chrome(ChromeDriverManager().install())"
   ],
   "outputs": [
    {
     "output_type": "stream",
     "name": "stderr",
     "text": [
      "\n",
      "\n",
      "====== WebDriver manager ======\n",
      "Current google-chrome version is 92.0.4515\n",
      "Get LATEST driver version for 92.0.4515\n",
      "Get LATEST driver version for 92.0.4515\n",
      "Trying to download new driver from https://chromedriver.storage.googleapis.com/92.0.4515.107/chromedriver_win32.zip\n",
      "Driver has been saved in cache [C:\\Users\\thugz\\.wdm\\drivers\\chromedriver\\win32\\92.0.4515.107]\n"
     ]
    }
   ],
   "metadata": {}
  },
  {
   "cell_type": "code",
   "execution_count": 3,
   "source": [
    "driver.get(URL)"
   ],
   "outputs": [],
   "metadata": {}
  },
  {
   "cell_type": "code",
   "execution_count": 4,
   "source": [
    "# skip intro\r\n",
    "skip_button = driver.find_element_by_xpath(\"/html/body/div[2]/content/div/button\")\r\n",
    "\r\n",
    "skip_button.click()"
   ],
   "outputs": [],
   "metadata": {}
  },
  {
   "cell_type": "code",
   "execution_count": 7,
   "source": [
    "# scroll to get more images\r\n",
    "driver.execute_script(\"window.scrollTo(0, window.scrollY + 10000)\")"
   ],
   "outputs": [],
   "metadata": {}
  },
  {
   "cell_type": "code",
   "execution_count": 19,
   "source": [
    "# read into beautifulsoup\r\n",
    "page_source = driver.page_source\r\n",
    "\r\n",
    "soup = BeautifulSoup(page_source, 'html.parser')\r\n",
    "\r\n",
    "# # get palette\r\n",
    "# current_palette = []\r\n",
    "\r\n",
    "# palette = soup.select(\".palette li\")\r\n",
    "\r\n",
    "# for color in palette:\r\n",
    "#     rgb = re.findall(\"\\d+, \\d+, \\d+\", color[\"style\"])[0].split(\", \")\r\n",
    "#     rgb = [int(color) for color in rgb]\r\n",
    "#     hex_code = '#%02x%02x%02x' % (rgb[0], rgb[1], rgb[2])\r\n",
    "#     current_palette.append(hex_code)\r\n",
    "\r\n",
    "# get palette V2\r\n",
    "palette = driver.current_url[-34:].split('-')\r\n",
    "palette_hex_codes = [\"#\" + hex_code for hex_code in palette]\r\n",
    "palette_key = \"\".join(sorted(palette))\r\n",
    "\r\n",
    "\r\n",
    "# get images\r\n",
    "# TODO: replace with a deque?\r\n",
    "image_dict = {}\r\n",
    "\r\n",
    "image_divs = soup.select(\".item-image img\")\r\n",
    "print(len(soup.find_all(\"div\", {\"class\": \"item-image\"})))\r\n",
    "\r\n",
    "\r\n",
    "for image in image_divs:\r\n",
    "    # print(image[\"alt\"], image[\"src\"])\r\n",
    "    image_dict[image[\"alt\"]] = image[\"src\"]\r\n",
    "\r\n"
   ],
   "outputs": [
    {
     "output_type": "stream",
     "name": "stdout",
     "text": [
      "30\n"
     ]
    }
   ],
   "metadata": {}
  },
  {
   "cell_type": "code",
   "execution_count": 20,
   "source": [
    "print(palette_hex_codes)\r\n",
    "print(palette_key)"
   ],
   "outputs": [
    {
     "output_type": "stream",
     "name": "stdout",
     "text": [
      "['#88bb89', '#516b44', '#98cbc6', '#2da647', '#aee2a1']\n",
      "2da647516b4488bb8998cbc6aee2a1\n"
     ]
    }
   ],
   "metadata": {}
  },
  {
   "cell_type": "code",
   "execution_count": 10,
   "source": [
    "print(len(image_dict))\r\n",
    "print(current_palette)"
   ],
   "outputs": [
    {
     "output_type": "stream",
     "name": "stdout",
     "text": [
      "23\n",
      "['#88bb89', '#516b44', '#98cbc6', '#2da647', '#aee2a1']\n"
     ]
    }
   ],
   "metadata": {}
  },
  {
   "cell_type": "code",
   "execution_count": 11,
   "source": [
    "driver.current_url"
   ],
   "outputs": [
    {
     "output_type": "execute_result",
     "data": {
      "text/plain": [
       "'https://artsexperiments.withgoogle.com/artpalette/colors/88bb89-516b44-98cbc6-2da647-aee2a1'"
      ]
     },
     "metadata": {},
     "execution_count": 11
    }
   ],
   "metadata": {}
  },
  {
   "cell_type": "code",
   "execution_count": null,
   "source": [
    "# upload images: https://cloudinary.com/documentation/upload_images\r\n",
    "# aws: https://stackoverflow.com/questions/50524739/upload-image-to-s3-python"
   ],
   "outputs": [],
   "metadata": {}
  }
 ],
 "metadata": {
  "orig_nbformat": 4,
  "language_info": {
   "name": "python",
   "version": "3.7.9",
   "mimetype": "text/x-python",
   "codemirror_mode": {
    "name": "ipython",
    "version": 3
   },
   "pygments_lexer": "ipython3",
   "nbconvert_exporter": "python",
   "file_extension": ".py"
  },
  "kernelspec": {
   "name": "python3",
   "display_name": "Python 3.7.9 64-bit ('paint': conda)"
  },
  "interpreter": {
   "hash": "2b9214014d01204ec1c10e5678a4304feb5bea45b56ac6b6d79be7d46b48320b"
  }
 },
 "nbformat": 4,
 "nbformat_minor": 2
}