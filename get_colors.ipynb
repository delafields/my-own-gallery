{
 "cells": [
  {
   "cell_type": "code",
   "execution_count": 7,
   "source": [
    "from selenium import webdriver\r\n",
    "# from selenium.webdriver.common.keys import Keys\r\n",
    "from webdriver_manager.chrome import ChromeDriverManager\r\n",
    "from selenium.webdriver.support.ui import WebDriverWait\r\n",
    "from selenium.webdriver.support import expected_conditions as EC\r\n",
    "from selenium.webdriver.common.by import By\r\n",
    "from bs4 import BeautifulSoup\r\n",
    "import time\r\n",
    "import re\r\n",
    "\r\n",
    "# location of chrome driver\r\n",
    "driver_location = r'C:\\Users\\thugz\\OneDrive\\Desktop\\Code\\chromedriver.exe'\r\n",
    "\r\n",
    "# options = webdriver.ChromeOptions() # define options\r\n",
    "# options.add_argument(\"headless\") # pass headless argument to the options\r\n",
    "# run headless chrome driver (otherwise remove options param)\r\n",
    "# with webdriver.Chrome(executable_path=driver_location, chrome_options=options) as driver:\r\n",
    "\r\n",
    "driver = webdriver.Chrome(ChromeDriverManager().install())"
   ],
   "outputs": [
    {
     "output_type": "stream",
     "name": "stderr",
     "text": [
      "\n",
      "\n",
      "====== WebDriver manager ======\n",
      "Current google-chrome version is 92.0.4515\n",
      "Get LATEST driver version for 92.0.4515\n",
      "Driver [C:\\Users\\thugz\\.wdm\\drivers\\chromedriver\\win32\\92.0.4515.107\\chromedriver.exe] found in cache\n"
     ]
    }
   ],
   "metadata": {}
  },
  {
   "cell_type": "code",
   "execution_count": 55,
   "source": [
    "def get_new_palette():\r\n",
    "\r\n",
    "    driver.get(\"https://artsexperiments.withgoogle.com/artpalette/\")\r\n",
    "\r\n",
    "    # skip intro\r\n",
    "    # skip_button = driver.find_element_by_xpath(\"/html/body/div[2]/content/div/button\")\r\n",
    "    # skip_button = WebDriverWait(driver, 3).until(EC.presence_of_element_located((By.CLASS_NAME, 'skip-intro-btn')))\r\n",
    "    skip_button = WebDriverWait(driver, 5).until(EC.element_to_be_clickable((By.CLASS_NAME, 'skip-intro-btn')))\r\n",
    "\r\n",
    "    skip_button.click()\r\n",
    "\r\n",
    "    time.sleep(2)\r\n",
    "\r\n",
    "    driver.execute_script(\"window.scrollTo(0, window.scrollY + 10000)\")\r\n",
    "\r\n",
    "    time.sleep(2)\r\n",
    "\r\n",
    "    driver.execute_script(\"window.scrollTo(0, window.scrollY + 10000)\")\r\n",
    "\r\n",
    "    # get palette\r\n",
    "    palette = driver.current_url[-34:].split('-')\r\n",
    "    palette_hex_codes = [\"#\" + hex_code for hex_code in palette]\r\n",
    "    palette_key = \"\".join(sorted(palette))\r\n",
    "\r\n",
    "    time.sleep(3)\r\n",
    "\r\n",
    "    # read into beautifulsoup\r\n",
    "    page_source = driver.page_source\r\n",
    "\r\n",
    "    soup = BeautifulSoup(page_source, 'html.parser')\r\n",
    "\r\n",
    "    # get images\r\n",
    "    image_dict = {}\r\n",
    "\r\n",
    "    image_divs = soup.select(\".item-image img\")\r\n",
    "    print(len(soup.find_all(\"div\", {\"class\": \"item-image\"})))\r\n",
    "\r\n",
    "\r\n",
    "    for image in image_divs:\r\n",
    "        image_dict[image[\"alt\"]] = image[\"src\"]\r\n",
    "\r\n",
    "    print(image_dict)\r\n",
    "\r\n",
    "    return image_dict"
   ],
   "outputs": [],
   "metadata": {}
  },
  {
   "cell_type": "code",
   "execution_count": 56,
   "source": [
    "image_dict = get_new_palette()"
   ],
   "outputs": [
    {
     "output_type": "stream",
     "name": "stdout",
     "text": [
      "25\n",
      "{'Stretching the Mask': 'https://lh6.ggpht.com/HoT_41qap1zEaYZYG1AVY5k2vy7wNkYum0JlTbGZa-3wEIjiYj_1M-p6fUVn=w155', 'Ceremonial gong with Sankofa bird': 'https://lh3.ggpht.com/4Eq26xTOsk7SQyN7F69GLfkdZntegcRYN0XTvZ435vryR33Yd8t52py-zp-G=w155', 'Pendant and Pair of Earrings': 'https://lh3.ggpht.com/pZalHxDnJdOoVLMFiXw8ql_n14gF6zBtJvzDQ9MDlGJrKz-9gDpGLK4Qb3CpLw=w155', 'Linguist Staff Finial Representing a Leopard and Four Antelope': 'https://lh6.ggpht.com/QjqchWn8BRQYYFi8gLYBvjb1yW7so3MIqgWwSAwdzW0xnDBnz1BOtb8XPls=w155', 'The Hands of Silence II': 'https://lh3.ggpht.com/qqz8Fma5RENFP-SxYp1HhT0AiCiKfngXSA4WJ8YoImFBoCF2JxcSpGv3tUOJ=w155', \"Lady's Watch and Pearled Chain\": 'https://lh5.ggpht.com/VEtrfrEyJkYBaA4VhyGCI1LlL6w9d8A5MljK9F-bw4y5H2ni1XYKlTYWXysbRA=w155', 'Capuchin Monk': 'https://lh3.googleusercontent.com/x7CiXArTlGb3XxE8iT3p7PjiIwSYZz881GJEsFIETjz0LPyQIRFvRGSsEXkDuztX2A=w155', \"Study of a Man's Head\": 'https://lh3.ggpht.com/AmjGWZh9l_rkjFHHRcEf-Jaql6moZOfZEzE44f6kT62_AOBkCDt8AxDcsahLtA=w155', 'Buddha Shakyamuni and Scenes from the Life of the Buddha': 'https://lh5.ggpht.com/l0u1GlRsIQcIp5LnZDVEEC7aaY6tqj00iaeumlr1On0UyE5GBVLf3hXYmP-AUA=w155', 'Estaminet - Flemish Tavern': 'https://lh3.ggpht.com/SdnQRFPH4CWJxeHrowBJa4EmDp-t0MHs43Ro31EsCEvKnpKaG2zkvwTmOqeH=w155', 'ARMPIT': 'https://lh3.ggpht.com/ql8ADIl1p7lDOgptYXrOlq6DuaTI9Z3rZpK-sPshZaFicQ7-J5x5kTY4YqA=w155', 'GELUNG AGUNG CROWN': 'https://lh6.ggpht.com/fdMgReP_RCOU2za-4evQigRrD2bW3bFqs9KCoBEg6367Adqvlo_7hLUH0KPF=w155', 'Lampshade': 'https://lh3.ggpht.com/UWhfIHPak48HowVFN2SsQvqH9xvk124D6vnSaBeg3XPCXdOSWbHwgKGeUZ1J4w=w155', 'The Calling of Samuel': 'https://lh3.ggpht.com/hW7IT3awaWgI_ZfZMiWeBdODzjl-uWNo_s3sXiSv_D5CImuIukv7e204ALmT=w155', 'Bearded, red-headed Man, seated': 'https://lh6.ggpht.com/XbgEfLdmPsP6k4CuF0JcbYG0GvUfzayti3SDLRReY5Y_Qh43hudb5a4yQ1FPhQ=w155', 'Head of a youth': 'https://lh6.ggpht.com/DGpNt8Up_zS27w4sPXkTfqqYEvl7V9SVju02oYeMQRpWfxbljwadz_GziRVC=w155', '': 'https://lh3.googleusercontent.com/pK7FhxhYMeszTZ8-EvVJgXOkcP1viNK9FryllMtzAnx4ZaoxG7A3IlyrycMetQ3y=w155', 'Varnam': 'https://lh3.googleusercontent.com/pK7FhxhYMeszTZ8-EvVJgXOkcP1viNK9FryllMtzAnx4ZaoxG7A3IlyrycMetQ3y=w155', 'Early Infinity No.3': 'https://lh5.ggpht.com/-Vdwqt7ck9eV4EhyRROoAef_TZRoe0N4LhESvqCinUetGz2bypGVtJXwRnHFcA=w155', 'Venus': 'https://lh6.ggpht.com/E8lxthIcp8RMPZMWr-9lN-Tide5WOsiNffWO_-_gLA3x8zn6J39YeFN28YP5=w155', 'Nude Study': 'https://lh6.ggpht.com/4YXUi-DRDUwP7oi7Ob1g-7UbyCvbP1B8t6hygQZgJ9hR3Jz3e1pNHi6OF4Y=w155', \"Portrait of the Artist's Wife, Laura Lebreton\": 'https://lh5.ggpht.com/717fPcPJa8-5MtvupZn1fFoZVIdtCfTFb6TU75yXNjVVpiyHruj5z0B7BETG=w155', 'Virgin and Child with Saints and a Donor': 'https://lh6.ggpht.com/MwEv8XaReU0z1mYB1cocZJn5ZPCihKe1jfoxJ7XKgRCZNMhDwg4Sb_nDmqk=w155', 'Nude Woman': 'https://lh4.ggpht.com/qZteGMzPFtK7H-Bv9bnNah-NL48yBbjzrgxkEbR-1X5_dIopT2Bx3ECbXIQboQ=w155', 'The Mythical Wild Goose': 'https://lh4.ggpht.com/NpA1U_UOjva4aRHLyaZcRe2RzQHVybQ0HcR3mdcldroBOVSNxdNM9LCv8L2Y=w155'}\n"
     ]
    }
   ],
   "metadata": {}
  },
  {
   "cell_type": "code",
   "execution_count": 52,
   "source": [
    "print(len(image_dict))"
   ],
   "outputs": [
    {
     "output_type": "stream",
     "name": "stdout",
     "text": [
      "27\n"
     ]
    }
   ],
   "metadata": {}
  },
  {
   "cell_type": "code",
   "execution_count": null,
   "source": [],
   "outputs": [],
   "metadata": {}
  }
 ],
 "metadata": {
  "orig_nbformat": 4,
  "language_info": {
   "name": "python",
   "version": "3.7.9",
   "mimetype": "text/x-python",
   "codemirror_mode": {
    "name": "ipython",
    "version": 3
   },
   "pygments_lexer": "ipython3",
   "nbconvert_exporter": "python",
   "file_extension": ".py"
  },
  "kernelspec": {
   "name": "python3",
   "display_name": "Python 3.7.9 64-bit ('paint': conda)"
  },
  "interpreter": {
   "hash": "2b9214014d01204ec1c10e5678a4304feb5bea45b56ac6b6d79be7d46b48320b"
  }
 },
 "nbformat": 4,
 "nbformat_minor": 2
}